{
 "cells": [
  {
   "cell_type": "code",
   "execution_count": 1,
   "metadata": {},
   "outputs": [],
   "source": [
    "import tensorflow as tf\n",
    "import numpy as np\n",
    "\n",
    "from train import FLAGS\n",
    "from seq2seq import Seq2seq\n",
    "from data_handler import Data\n",
    "\n",
    "run_config = tf.contrib.learn.RunConfig()\n",
    "run_config = run_config.replace(model_dir=FLAGS.experiment_dir)\n",
    "\n",
    "data = Data(FLAGS)\n",
    "data.initialize_word_vectors()\n",
    "\n",
    "model = Seq2seq(data.vocab_size, FLAGS, data.embeddings_mat)"
   ]
  },
  {
   "cell_type": "markdown",
   "metadata": {},
   "source": [
    "The Data object creates feed functions for both placeholders and real data"
   ]
  },
  {
   "cell_type": "code",
   "execution_count": 2,
   "metadata": {},
   "outputs": [],
   "source": [
    "input_fn, feed_fn = data.make_input_fn('train')"
   ]
  },
  {
   "cell_type": "markdown",
   "metadata": {},
   "source": [
    "Here's what the placeholders look like"
   ]
  },
  {
   "cell_type": "code",
   "execution_count": 11,
   "metadata": {},
   "outputs": [
    {
     "data": {
      "text/plain": [
       "({'label': <tf.Tensor 'label_1:0' shape=(?,) dtype=float32>,\n",
       "  'source_in': <tf.Tensor 'source_in_1:0' shape=(?, ?) dtype=int64>,\n",
       "  'source_out': <tf.Tensor 'source_out_1:0' shape=(?, ?) dtype=int64>,\n",
       "  'target_in': <tf.Tensor 'target_in_1:0' shape=(?, ?) dtype=int64>,\n",
       "  'target_out': <tf.Tensor 'target_out_1:0' shape=(?, ?) dtype=int64>},\n",
       " None)"
      ]
     },
     "execution_count": 11,
     "metadata": {},
     "output_type": "execute_result"
    }
   ],
   "source": [
    "input_fn()"
   ]
  },
  {
   "cell_type": "markdown",
   "metadata": {},
   "source": [
    "And here's what one batch of real data looks like"
   ]
  },
  {
   "cell_type": "code",
   "execution_count": 19,
   "metadata": {},
   "outputs": [
    {
     "name": "stdout",
     "output_type": "stream",
     "text": [
      "{'target_out:0': [[19359, 9336, 1255, 22406, 12883, 12163, 7361, 12943, 1, 1, 1, 1, 1, 1], [19359, 20980, 20233, 10854, 19111, 8773, 16176, 12065, 1, 1, 1, 1, 1, 1], [19359, 7567, 8566, 3151, 19111, 282, 19359, 21734, 8780, 8775, 1, 1, 1, 1], [525, 19102, 17431, 17459, 5930, 19359, 4511, 19500, 18964, 1535, 20446, 1, 1, 1], [19359, 18616, 10744, 19359, 12895, 6591, 8667, 15584, 7361, 21384, 1, 1, 1, 1], [15052, 6252, 1656, 4246, 2152, 20588, 3578, 4843, 1, 1, 1, 1, 1, 1], [19359, 6591, 8667, 718, 21384, 8773, 11365, 12895, 1, 1, 1, 1, 1, 1], [7361, 379, 10744, 19359, 12895, 6591, 8667, 8773, 7361, 16125, 1, 1, 1, 1], [19359, 14713, 6781, 8780, 19359, 21969, 1625, 718, 22406, 20040, 8709, 1, 1, 1], [19359, 14713, 6781, 8780, 19359, 21969, 1625, 718, 22406, 20040, 8709, 1, 1, 1], [12514, 14713, 718, 8709, 20040, 6781, 8780, 7361, 1625, 1, 1, 1, 1, 1], [19359, 7202, 1656, 17988, 18083, 8780, 7361, 769, 1, 1, 1, 1, 1, 1], [15761, 22224, 6335, 6051, 8780, 19359, 8295, 12974, 548, 4507, 1, 1, 1, 1], [15052, 21071, 13536, 7131, 19359, 1625, 9739, 718, 9115, 1803, 1, 1, 1, 1], [19359, 17840, 21271, 14916, 6335, 14858, 13303, 16328, 19359, 20817, 1, 1, 1, 1], [7054, 1656, 12107, 12883, 7777, 12163, 12528, 7361, 9988, 1, 1, 1, 1, 1], [19359, 192, 10744, 13426, 4031, 18506, 15179, 22224, 12895, 969, 22499, 1, 1, 1], [19359, 17223, 10744, 22832, 4936, 6166, 20513, 19359, 15903, 22685, 9280, 1, 1, 1], [19359, 3066, 8773, 1132, 12163, 15920, 1798, 19550, 5035, 10744, 3443, 1, 1, 1], [19359, 20226, 8780, 19706, 10744, 19359, 17434, 21560, 1, 1, 1, 1, 1, 1], [7739, 18323, 19359, 12040, 6166, 17541, 14359, 19359, 14713, 1, 1, 1, 1, 1], [19359, 17279, 10744, 4184, 19114, 8780, 19359, 7537, 1, 1, 1, 1, 1, 1], [19359, 11934, 18995, 718, 5048, 1656, 7361, 17466, 1, 1, 1, 1, 1, 1], [19359, 11934, 18995, 8773, 21154, 718, 15460, 4550, 1, 1, 1, 1, 1, 1], [19359, 19648, 21692, 12779, 22610, 12163, 6661, 8073, 1, 1, 1, 1, 1, 1], [19359, 19648, 21692, 12779, 22610, 12163, 6661, 8073, 1, 1, 1, 1, 1, 1], [19359, 9988, 3482, 8780, 19706, 10744, 19359, 10067, 641, 1, 1, 1, 1, 1], [19359, 4286, 5438, 1018, 14530, 5357, 1656, 19359, 15159, 9950, 1, 1, 1, 1], [19359, 14713, 441, 6340, 19359, 1625, 12602, 8780, 19359, 2824, 18436, 6672, 4483, 1], [19359, 10800, 9015, 19359, 14455, 8780, 19706, 10744, 20706, 1, 1, 1, 1, 1], [19359, 19546, 1656, 19359, 11934, 10057, 8773, 2305, 8780, 18329, 1551, 8325, 1, 1], [19359, 14713, 8780, 12664, 6781, 6340, 7361, 1625, 21100, 1, 1, 1, 1, 1]], 'source_in:0': [[19359, 9336, 1255, 22406, 12883, 12163, 7361, 12943, 1, 1, 1, 1, 1, 1, 1], [19359, 14713, 1255, 15769, 1656, 19359, 20651, 18323, 19359, 10290, 1, 1, 1, 1, 1], [19359, 9336, 21632, 22406, 12883, 10057, 1, 1, 1, 1, 1, 1, 1, 1, 1], [19359, 14713, 1656, 19359, 12883, 18323, 19359, 19862, 15756, 22406, 10974, 1, 1, 1, 1], [18616, 10744, 6591, 12895, 15584, 7361, 21384, 1, 1, 1, 1, 1, 1, 1, 1], [19359, 12895, 6591, 8667, 15891, 8780, 19359, 379, 1656, 19359, 18995, 1, 1, 1, 1], [19359, 6591, 8667, 718, 21384, 8773, 11365, 12895, 1, 1, 1, 1, 1, 1, 1], [379, 10744, 19359, 12895, 6591, 8667, 8773, 16125, 1, 1, 1, 1, 1, 1, 1], [19359, 14713, 6781, 8780, 7361, 1625, 22406, 718, 20040, 13980, 1, 1, 1, 1, 1], [19359, 14713, 6781, 8780, 21969, 19359, 1625, 718, 22406, 8709, 1, 1, 1, 1, 1], [14713, 12514, 718, 8709, 20040, 6781, 7361, 8780, 1625, 1, 1, 1, 1, 1, 1], [19359, 14713, 11158, 22406, 20040, 8780, 19359, 1625, 1, 1, 1, 1, 1, 1, 1], [19359, 7394, 9988, 22224, 19359, 14713, 4150, 6337, 19359, 10246, 1656, 19359, 14720, 15769, 1], [19359, 12416, 1255, 19359, 7825, 18326, 12883, 1656, 7361, 20651, 1, 1, 1, 1, 1], [7054, 1656, 12107, 12883, 7777, 12163, 12528, 7361, 9988, 1, 1, 1, 1, 1, 1], [19359, 10246, 19359, 7825, 6700, 12883, 1132, 19359, 7394, 9988, 1, 1, 1, 1, 1], [6335, 17221, 8773, 19111, 8780, 19706, 10744, 19359, 17434, 21560, 1, 1, 1, 1, 1], [6335, 10398, 1531, 8773, 3482, 1656, 15877, 10744, 19261, 1, 1, 1, 1, 1, 1], [19359, 20226, 19706, 10744, 19359, 17434, 1, 1, 1, 1, 1, 1, 1, 1, 1], [19359, 3066, 8773, 1132, 12163, 15920, 1798, 19550, 5035, 10744, 3443, 1, 1, 1, 1], [7739, 18323, 19359, 12040, 6166, 14359, 17541, 19359, 14713, 1, 1, 1, 1, 1, 1], [19359, 22224, 19359, 10800, 16441, 1656, 7361, 18995, 21154, 718, 10057, 20011, 1, 1, 1], [19359, 11934, 18995, 8773, 21154, 718, 15460, 4550, 1, 1, 1, 1, 1, 1, 1], [19359, 11934, 18995, 718, 5048, 1656, 7361, 17466, 1, 1, 1, 1, 1, 1, 1], [19450, 21692, 19111, 8773, 10385, 7852, 22224, 288, 19359, 7537, 1, 1, 1, 1, 1], [19359, 19648, 12779, 22610, 12163, 6661, 1, 1, 1, 1, 1, 1, 1, 1, 1], [19359, 22171, 12779, 1132, 12163, 19359, 8780, 19359, 21692, 1, 1, 1, 1, 1, 1], [6335, 2327, 21692, 11365, 718, 5593, 6335, 7537, 11933, 1, 1, 1, 1, 1, 1], [19359, 14713, 441, 6340, 19359, 1625, 8780, 19359, 2824, 18436, 6672, 4483, 1, 1, 1], [19359, 14713, 8773, 3494, 1231, 8780, 7361, 1625, 21100, 1, 1, 1, 1, 1, 1], [14713, 19359, 8780, 12664, 6781, 6340, 7361, 1625, 21100, 1, 1, 1, 1, 1, 1], [19359, 14713, 6781, 8780, 19359, 1625, 718, 19359, 1139, 22224, 14446, 1, 1, 1, 1]], 'label:0': [1, 0, 0, 0, 1, 0, 1, 1, 1, 1, 1, 0, 0, 0, 0, 1, 0, 0, 1, 1, 1, 0, 1, 1, 1, 1, 0, 0, 1, 0, 0, 1], 'source_out:0': [[19359, 14713, 1255, 19359, 15769, 1656, 19359, 20651, 18323, 19359, 4681, 10290, 1, 1, 1], [19359, 14713, 1255, 19359, 15769, 1656, 19359, 20651, 18323, 19359, 4681, 10290, 1, 1, 1], [19359, 9336, 21632, 22406, 12883, 3083, 7361, 10057, 1, 1, 1, 1, 1, 1, 1], [19359, 14713, 1656, 19359, 12883, 18323, 19359, 19862, 15756, 22406, 10974, 1, 1, 1, 1], [19359, 12895, 6591, 8667, 15891, 8780, 19359, 12895, 379, 1656, 19359, 18995, 1, 1, 1], [19359, 12895, 6591, 8667, 15891, 8780, 19359, 12895, 379, 1656, 19359, 18995, 1, 1, 1], [7361, 379, 10744, 19359, 12895, 6591, 8667, 8773, 7361, 16125, 1, 1, 1, 1, 1], [19359, 6591, 8667, 718, 21384, 8773, 11365, 12895, 1, 1, 1, 1, 1, 1, 1], [19359, 14713, 6781, 8780, 7361, 1625, 718, 22406, 20040, 13980, 1, 1, 1, 1, 1], [19359, 14713, 6781, 8780, 7361, 1625, 718, 22406, 20040, 13980, 1, 1, 1, 1, 1], [19359, 14713, 11158, 22406, 20040, 8780, 19359, 1625, 1, 1, 1, 1, 1, 1, 1], [19359, 14713, 11158, 22406, 20040, 8780, 19359, 1625, 1, 1, 1, 1, 1, 1, 1], [19359, 7394, 9988, 22224, 19359, 14713, 4150, 6337, 19359, 10246, 1656, 19359, 14720, 15769, 1], [19359, 12416, 1255, 19359, 7825, 18326, 12883, 1656, 7361, 20651, 1, 1, 1, 1, 1], [7054, 1656, 12107, 12883, 7777, 12163, 12528, 7361, 9988, 1, 1, 1, 1, 1, 1], [19359, 10246, 1255, 19359, 7825, 6700, 12883, 1132, 12163, 19359, 7394, 9988, 1, 1, 1], [6335, 17221, 19111, 8773, 8780, 19706, 10744, 19359, 17434, 21560, 1, 1, 1, 1, 1], [6335, 10398, 1531, 8773, 3482, 1656, 15877, 10744, 6335, 19261, 1, 1, 1, 1, 1], [19359, 20226, 8780, 19706, 10744, 19359, 17434, 21560, 1, 1, 1, 1, 1, 1, 1], [19359, 3066, 8773, 1132, 12163, 15920, 1798, 19550, 5035, 10744, 3443, 1, 1, 1, 1], [19359, 14713, 22224, 19359, 10800, 16441, 1656, 7361, 18995, 21154, 718, 10057, 20011, 1, 1], [19359, 14713, 22224, 19359, 10800, 16441, 1656, 7361, 18995, 21154, 718, 10057, 20011, 1, 1], [19359, 11934, 18995, 8773, 21154, 718, 15460, 4550, 1, 1, 1, 1, 1, 1, 1], [19359, 11934, 18995, 718, 5048, 1656, 7361, 17466, 1, 1, 1, 1, 1, 1, 1], [19450, 21692, 19111, 8773, 10385, 7852, 22224, 288, 19359, 7537, 1, 1, 1, 1, 1], [19450, 21692, 19111, 8773, 10385, 7852, 22224, 288, 19359, 7537, 1, 1, 1, 1, 1], [19359, 22171, 12779, 1132, 12163, 19359, 21100, 8780, 19359, 21692, 1, 1, 1, 1, 1], [6335, 2327, 21692, 11365, 5593, 718, 6335, 11933, 7537, 1, 1, 1, 1, 1, 1], [19359, 14713, 8773, 3494, 1231, 8780, 7361, 1625, 21100, 1, 1, 1, 1, 1, 1], [19359, 14713, 8773, 3494, 1231, 8780, 7361, 1625, 21100, 1, 1, 1, 1, 1, 1], [19359, 14713, 8780, 12664, 6781, 6340, 7361, 1625, 21100, 1, 1, 1, 1, 1, 1], [19359, 14713, 6781, 8780, 19359, 1625, 718, 19359, 1139, 22224, 14446, 1, 1, 1, 1]], 'target_in:0': [[19359, 14713, 1255, 19359, 15769, 1656, 19359, 20651, 18323, 19359, 4681, 10290, 1], [19359, 20980, 20233, 10854, 19111, 8773, 16176, 12065, 1, 1, 1, 1, 1], [19359, 7567, 8566, 19111, 3151, 282, 19359, 21734, 8780, 8775, 1, 1, 1], [525, 19102, 17431, 17459, 5930, 19359, 4511, 19500, 18964, 1535, 20446, 1, 1], [19359, 12895, 15891, 8780, 19359, 379, 1656, 19359, 18995, 1, 1, 1, 1], [15052, 6252, 1656, 4246, 2152, 3578, 4843, 1, 1, 1, 1, 1, 1], [7361, 379, 10744, 19359, 6591, 12895, 8667, 8773, 7361, 16125, 1, 1, 1], [19359, 8667, 718, 21384, 8773, 11365, 12895, 1, 1, 1, 1, 1, 1], [19359, 14713, 6781, 8780, 19359, 21969, 1625, 718, 22406, 20040, 8709, 1, 1], [19359, 14713, 6781, 8780, 7361, 1625, 718, 22406, 20040, 13980, 1, 1, 1], [19359, 14713, 11158, 20040, 22406, 1625, 8780, 1, 1, 1, 1, 1, 1], [19359, 7202, 1656, 17988, 18083, 7361, 8780, 769, 1, 1, 1, 1, 1], [15761, 22224, 6335, 6051, 8780, 19359, 8295, 12974, 548, 4507, 1, 1, 1], [15052, 21071, 13536, 7131, 19359, 1625, 9739, 718, 9115, 1803, 1, 1, 1], [19359, 17840, 21271, 14916, 6335, 14858, 13303, 16328, 19359, 20817, 1, 1, 1], [7054, 1656, 12107, 12883, 7777, 12163, 12528, 7361, 9988, 1, 1, 1, 1], [19359, 10744, 13426, 4031, 18506, 15179, 22224, 12895, 22499, 969, 1, 1, 1], [17223, 19359, 10744, 22832, 4936, 6166, 19359, 15903, 22685, 9280, 1, 1, 1], [19359, 3066, 8773, 1132, 12163, 15920, 1798, 19550, 5035, 10744, 3443, 1, 1], [19359, 20226, 8780, 19706, 19359, 10744, 21560, 1, 1, 1, 1, 1, 1], [19359, 22224, 19359, 10800, 16441, 1656, 7361, 18995, 21154, 718, 10057, 20011, 1], [19359, 17279, 10744, 4184, 19114, 8780, 19359, 7537, 1, 1, 1, 1, 1], [19359, 11934, 18995, 718, 5048, 1656, 7361, 17466, 1, 1, 1, 1, 1], [19359, 11934, 18995, 8773, 21154, 718, 4550, 1, 1, 1, 1, 1, 1], [19359, 19648, 21692, 12779, 22610, 12163, 6661, 8073, 1, 1, 1, 1, 1], [19450, 21692, 19111, 8773, 10385, 7852, 288, 19359, 7537, 1, 1, 1, 1], [19359, 9988, 3482, 8780, 19706, 10744, 19359, 10067, 641, 1, 1, 1, 1], [19359, 4286, 5438, 1018, 14530, 5357, 1656, 19359, 9950, 1, 1, 1, 1], [19359, 14713, 8773, 3494, 1231, 8780, 1625, 7361, 21100, 1, 1, 1, 1], [19359, 10800, 9015, 19359, 14455, 8780, 19706, 10744, 20706, 1, 1, 1, 1], [19546, 1656, 19359, 11934, 10057, 2305, 8773, 8780, 18329, 1551, 8325, 1, 1], [19359, 14713, 8780, 12664, 6781, 6340, 7361, 1625, 21100, 1, 1, 1, 1]]}\n"
     ]
    }
   ],
   "source": [
    "print feed_fn()"
   ]
  },
  {
   "cell_type": "code",
   "execution_count": 16,
   "metadata": {},
   "outputs": [],
   "source": [
    "batch = feed_fn()"
   ]
  },
  {
   "cell_type": "code",
   "execution_count": 17,
   "metadata": {},
   "outputs": [
    {
     "data": {
      "text/plain": [
       "[15052,\n",
       " 11809,\n",
       " 19359,\n",
       " 10800,\n",
       " 6166,\n",
       " 8780,\n",
       " 19706,\n",
       " 10744,\n",
       " 19359,\n",
       " 14818,\n",
       " 1,\n",
       " 1,\n",
       " 1,\n",
       " 1]"
      ]
     },
     "execution_count": 17,
     "metadata": {},
     "output_type": "execute_result"
    }
   ],
   "source": [
    "batch['source_in:0'][0]"
   ]
  },
  {
   "cell_type": "code",
   "execution_count": 18,
   "metadata": {},
   "outputs": [
    {
     "data": {
      "text/plain": [
       "['two',\n",
       " 'bicycles',\n",
       " 'a',\n",
       " 'woman',\n",
       " 'walking',\n",
       " 'in',\n",
       " 'front',\n",
       " 'of',\n",
       " 'a',\n",
       " 'shop',\n",
       " '</S>',\n",
       " '</S>',\n",
       " '</S>',\n",
       " '</S>']"
      ]
     },
     "execution_count": 18,
     "metadata": {},
     "output_type": "execute_result"
    }
   ],
   "source": [
    "[data.rev_vocab[t] for t in batch['source_in:0'][0]]"
   ]
  },
  {
   "cell_type": "markdown",
   "metadata": {},
   "source": [
    "The seq2seq object controls building the entire graph"
   ]
  },
  {
   "cell_type": "code",
   "execution_count": 4,
   "metadata": {},
   "outputs": [],
   "source": [
    "features, _ = input_fn()"
   ]
  },
  {
   "cell_type": "code",
   "execution_count": 24,
   "metadata": {},
   "outputs": [
    {
     "data": {
      "text/plain": [
       "{'label': <tf.Tensor 'label_3:0' shape=(?,) dtype=float32>,\n",
       " 'source_in': <tf.Tensor 'source_in_3:0' shape=(?, ?) dtype=int64>,\n",
       " 'source_out': <tf.Tensor 'source_out_3:0' shape=(?, ?) dtype=int64>,\n",
       " 'target_in': <tf.Tensor 'target_in_3:0' shape=(?, ?) dtype=int64>,\n",
       " 'target_out': <tf.Tensor 'target_out_3:0' shape=(?, ?) dtype=int64>}"
      ]
     },
     "execution_count": 24,
     "metadata": {},
     "output_type": "execute_result"
    }
   ],
   "source": [
    "features"
   ]
  },
  {
   "cell_type": "code",
   "execution_count": 25,
   "metadata": {},
   "outputs": [],
   "source": [
    "graph_fn_out = model.make_graph(tf.estimator.ModeKeys.TRAIN, features, None, FLAGS)"
   ]
  },
  {
   "cell_type": "code",
   "execution_count": 26,
   "metadata": {},
   "outputs": [
    {
     "data": {
      "text/plain": [
       "EstimatorSpec(mode='train', predictions=<tf.Tensor 'decode_2/decoder/transpose_1:0' shape=(?, ?) dtype=int32>, loss=<tf.Tensor 'add_5:0' shape=() dtype=float32>, train_op=<tf.Tensor 'OptimizeLoss/control_dependency:0' shape=() dtype=float32>, eval_metric_ops={'source_loss': (<tf.Tensor 'mean/value:0' shape=() dtype=float32>, <tf.Tensor 'mean/update_op:0' shape=() dtype=float32>), 'target_loss': (<tf.Tensor 'mean_1/value:0' shape=() dtype=float32>, <tf.Tensor 'mean_1/update_op:0' shape=() dtype=float32>), 'sim_loss': (<tf.Tensor 'mean_2/value:0' shape=() dtype=float32>, <tf.Tensor 'mean_2/update_op:0' shape=() dtype=float32>)}, export_outputs=None, training_chief_hooks=(), training_hooks=(), scaffold=<tensorflow.python.training.monitored_session.Scaffold object at 0x12831eb50>, evaluation_hooks=())"
      ]
     },
     "execution_count": 26,
     "metadata": {},
     "output_type": "execute_result"
    }
   ],
   "source": [
    "graph_fn_out"
   ]
  },
  {
   "cell_type": "markdown",
   "metadata": {},
   "source": [
    "Right now, `model.make_graph` returns an `EstimatorSpec`, but we can easily comment that out and replace it with a return function that looks like\n",
    "```python\n",
    "return train_output_source, source_in, source_out, target_in, target_out, label\n",
    "\n",
    "```"
   ]
  },
  {
   "cell_type": "code",
   "execution_count": 30,
   "metadata": {},
   "outputs": [],
   "source": [
    "tf.reset_default_graph()"
   ]
  },
  {
   "cell_type": "code",
   "execution_count": 5,
   "metadata": {},
   "outputs": [],
   "source": [
    "train_output_source, source_in, source_out, target_in, target_out, label = model.make_graph(tf.estimator.ModeKeys.TRAIN, features, None, FLAGS)"
   ]
  },
  {
   "cell_type": "markdown",
   "metadata": {},
   "source": [
    "If the previous line fails, you might need to restart the kernel and run it again (along with ONLY its predecessor cells that it depends on)"
   ]
  },
  {
   "cell_type": "markdown",
   "metadata": {},
   "source": [
    "Now we have some of the tensors that the model actually uses during training"
   ]
  },
  {
   "cell_type": "code",
   "execution_count": 7,
   "metadata": {},
   "outputs": [
    {
     "name": "stdout",
     "output_type": "stream",
     "text": [
      "Tensor(\"source_in:0\", shape=(?, ?), dtype=int64)\n"
     ]
    }
   ],
   "source": [
    "print source_in"
   ]
  },
  {
   "cell_type": "code",
   "execution_count": 8,
   "metadata": {},
   "outputs": [
    {
     "name": "stdout",
     "output_type": "stream",
     "text": [
      "BasicDecoderOutput(rnn_output=<tf.Tensor 'decode/decoder/transpose:0' shape=(?, ?, 22946) dtype=float32>, sample_id=<tf.Tensor 'decode/decoder/transpose_1:0' shape=(?, ?) dtype=int32>)\n"
     ]
    }
   ],
   "source": [
    "print train_output_source"
   ]
  },
  {
   "cell_type": "markdown",
   "metadata": {},
   "source": [
    "We'll have to use a feed dict in order to see what they look like inside of a session"
   ]
  },
  {
   "cell_type": "code",
   "execution_count": 9,
   "metadata": {},
   "outputs": [
    {
     "name": "stdout",
     "output_type": "stream",
     "text": [
      "Start of Epoch 1\n"
     ]
    }
   ],
   "source": [
    "batch = feed_fn()"
   ]
  },
  {
   "cell_type": "code",
   "execution_count": 10,
   "metadata": {},
   "outputs": [],
   "source": [
    "d = {\n",
    "    source_in: batch['source_in:0'],\n",
    "    source_out: batch['source_out:0'],\n",
    "    target_in: batch['target_in:0'],\n",
    "    target_out: batch['target_out:0'],\n",
    "    label: batch['label:0']\n",
    "}"
   ]
  },
  {
   "cell_type": "code",
   "execution_count": 12,
   "metadata": {},
   "outputs": [
    {
     "ename": "FailedPreconditionError",
     "evalue": "Attempting to use uninitialized value decode/decoder/output_projection_wrapper/lstm_cell/kernel\n\t [[Node: decode/decoder/output_projection_wrapper/lstm_cell/kernel/read = Identity[T=DT_FLOAT, _device=\"/job:localhost/replica:0/task:0/device:CPU:0\"](decode/decoder/output_projection_wrapper/lstm_cell/kernel)]]\n\nCaused by op u'decode/decoder/output_projection_wrapper/lstm_cell/kernel/read', defined at:\n  File \"/Users/zalexander/anaconda/envs/tensorflow/lib/python2.7/runpy.py\", line 174, in _run_module_as_main\n    \"__main__\", fname, loader, pkg_name)\n  File \"/Users/zalexander/anaconda/envs/tensorflow/lib/python2.7/runpy.py\", line 72, in _run_code\n    exec code in run_globals\n  File \"/Users/zalexander/anaconda/envs/tensorflow/lib/python2.7/site-packages/ipykernel_launcher.py\", line 16, in <module>\n    app.launch_new_instance()\n  File \"/Users/zalexander/anaconda/envs/tensorflow/lib/python2.7/site-packages/traitlets/config/application.py\", line 658, in launch_instance\n    app.start()\n  File \"/Users/zalexander/anaconda/envs/tensorflow/lib/python2.7/site-packages/ipykernel/kernelapp.py\", line 478, in start\n    self.io_loop.start()\n  File \"/Users/zalexander/anaconda/envs/tensorflow/lib/python2.7/site-packages/zmq/eventloop/ioloop.py\", line 177, in start\n    super(ZMQIOLoop, self).start()\n  File \"/Users/zalexander/anaconda/envs/tensorflow/lib/python2.7/site-packages/tornado/ioloop.py\", line 888, in start\n    handler_func(fd_obj, events)\n  File \"/Users/zalexander/anaconda/envs/tensorflow/lib/python2.7/site-packages/tornado/stack_context.py\", line 277, in null_wrapper\n    return fn(*args, **kwargs)\n  File \"/Users/zalexander/anaconda/envs/tensorflow/lib/python2.7/site-packages/zmq/eventloop/zmqstream.py\", line 440, in _handle_events\n    self._handle_recv()\n  File \"/Users/zalexander/anaconda/envs/tensorflow/lib/python2.7/site-packages/zmq/eventloop/zmqstream.py\", line 472, in _handle_recv\n    self._run_callback(callback, msg)\n  File \"/Users/zalexander/anaconda/envs/tensorflow/lib/python2.7/site-packages/zmq/eventloop/zmqstream.py\", line 414, in _run_callback\n    callback(*args, **kwargs)\n  File \"/Users/zalexander/anaconda/envs/tensorflow/lib/python2.7/site-packages/tornado/stack_context.py\", line 277, in null_wrapper\n    return fn(*args, **kwargs)\n  File \"/Users/zalexander/anaconda/envs/tensorflow/lib/python2.7/site-packages/ipykernel/kernelbase.py\", line 281, in dispatcher\n    return self.dispatch_shell(stream, msg)\n  File \"/Users/zalexander/anaconda/envs/tensorflow/lib/python2.7/site-packages/ipykernel/kernelbase.py\", line 232, in dispatch_shell\n    handler(stream, idents, msg)\n  File \"/Users/zalexander/anaconda/envs/tensorflow/lib/python2.7/site-packages/ipykernel/kernelbase.py\", line 397, in execute_request\n    user_expressions, allow_stdin)\n  File \"/Users/zalexander/anaconda/envs/tensorflow/lib/python2.7/site-packages/ipykernel/ipkernel.py\", line 208, in do_execute\n    res = shell.run_cell(code, store_history=store_history, silent=silent)\n  File \"/Users/zalexander/anaconda/envs/tensorflow/lib/python2.7/site-packages/ipykernel/zmqshell.py\", line 533, in run_cell\n    return super(ZMQInteractiveShell, self).run_cell(*args, **kwargs)\n  File \"/Users/zalexander/anaconda/envs/tensorflow/lib/python2.7/site-packages/IPython/core/interactiveshell.py\", line 2717, in run_cell\n    interactivity=interactivity, compiler=compiler, result=result)\n  File \"/Users/zalexander/anaconda/envs/tensorflow/lib/python2.7/site-packages/IPython/core/interactiveshell.py\", line 2821, in run_ast_nodes\n    if self.run_code(code, result):\n  File \"/Users/zalexander/anaconda/envs/tensorflow/lib/python2.7/site-packages/IPython/core/interactiveshell.py\", line 2881, in run_code\n    exec(code_obj, self.user_global_ns, self.user_ns)\n  File \"<ipython-input-5-54e3eed4799b>\", line 1, in <module>\n    train_output_source, source_in, source_out, target_in, target_out, label = model.make_graph(tf.estimator.ModeKeys.TRAIN, features, None, FLAGS)\n  File \"seq2seq.py\", line 180, in make_graph\n    train_output_source = self.decode(source_encoder_out, 'decode', source_out)\n  File \"seq2seq.py\", line 120, in decode\n    impute_finished=True, maximum_iterations=self.FLAGS.output_max_length + 1)\n  File \"/Users/zalexander/anaconda/envs/tensorflow/lib/python2.7/site-packages/tensorflow/contrib/seq2seq/python/ops/decoder.py\", line 286, in dynamic_decode\n    swap_memory=swap_memory)\n  File \"/Users/zalexander/anaconda/envs/tensorflow/lib/python2.7/site-packages/tensorflow/python/ops/control_flow_ops.py\", line 2816, in while_loop\n    result = loop_context.BuildLoop(cond, body, loop_vars, shape_invariants)\n  File \"/Users/zalexander/anaconda/envs/tensorflow/lib/python2.7/site-packages/tensorflow/python/ops/control_flow_ops.py\", line 2640, in BuildLoop\n    pred, body, original_loop_vars, loop_vars, shape_invariants)\n  File \"/Users/zalexander/anaconda/envs/tensorflow/lib/python2.7/site-packages/tensorflow/python/ops/control_flow_ops.py\", line 2590, in _BuildLoop\n    body_result = body(*packed_vars_for_body)\n  File \"/Users/zalexander/anaconda/envs/tensorflow/lib/python2.7/site-packages/tensorflow/contrib/seq2seq/python/ops/decoder.py\", line 234, in body\n    decoder_finished) = decoder.step(time, inputs, state)\n  File \"/Users/zalexander/anaconda/envs/tensorflow/lib/python2.7/site-packages/tensorflow/contrib/seq2seq/python/ops/basic_decoder.py\", line 138, in step\n    cell_outputs, cell_state = self._cell(inputs, state)\n  File \"/Users/zalexander/anaconda/envs/tensorflow/lib/python2.7/site-packages/tensorflow/python/ops/rnn_cell_impl.py\", line 183, in __call__\n    return super(RNNCell, self).__call__(inputs, state)\n  File \"/Users/zalexander/anaconda/envs/tensorflow/lib/python2.7/site-packages/tensorflow/python/layers/base.py\", line 575, in __call__\n    outputs = self.call(inputs, *args, **kwargs)\n  File \"/Users/zalexander/anaconda/envs/tensorflow/lib/python2.7/site-packages/tensorflow/contrib/rnn/python/ops/core_rnn_cell.py\", line 230, in call\n    output, res_state = self._cell(inputs, state)\n  File \"/Users/zalexander/anaconda/envs/tensorflow/lib/python2.7/site-packages/tensorflow/python/ops/rnn_cell_impl.py\", line 183, in __call__\n    return super(RNNCell, self).__call__(inputs, state)\n  File \"/Users/zalexander/anaconda/envs/tensorflow/lib/python2.7/site-packages/tensorflow/python/layers/base.py\", line 575, in __call__\n    outputs = self.call(inputs, *args, **kwargs)\n  File \"/Users/zalexander/anaconda/envs/tensorflow/lib/python2.7/site-packages/tensorflow/python/ops/rnn_cell_impl.py\", line 608, in call\n    self._linear1 = _Linear([inputs, m_prev], 4 * self._num_units, True)\n  File \"/Users/zalexander/anaconda/envs/tensorflow/lib/python2.7/site-packages/tensorflow/python/ops/rnn_cell_impl.py\", line 1171, in __init__\n    initializer=kernel_initializer)\n  File \"/Users/zalexander/anaconda/envs/tensorflow/lib/python2.7/site-packages/tensorflow/python/ops/variable_scope.py\", line 1203, in get_variable\n    constraint=constraint)\n  File \"/Users/zalexander/anaconda/envs/tensorflow/lib/python2.7/site-packages/tensorflow/python/ops/variable_scope.py\", line 1092, in get_variable\n    constraint=constraint)\n  File \"/Users/zalexander/anaconda/envs/tensorflow/lib/python2.7/site-packages/tensorflow/python/ops/variable_scope.py\", line 417, in get_variable\n    return custom_getter(**custom_getter_kwargs)\n  File \"/Users/zalexander/anaconda/envs/tensorflow/lib/python2.7/site-packages/tensorflow/python/ops/variable_scope.py\", line 1583, in wrapped_custom_getter\n    *args, **kwargs)\n  File \"/Users/zalexander/anaconda/envs/tensorflow/lib/python2.7/site-packages/tensorflow/python/ops/rnn_cell_impl.py\", line 186, in _rnn_get_variable\n    variable = getter(*args, **kwargs)\n  File \"/Users/zalexander/anaconda/envs/tensorflow/lib/python2.7/site-packages/tensorflow/python/ops/rnn_cell_impl.py\", line 186, in _rnn_get_variable\n    variable = getter(*args, **kwargs)\n  File \"/Users/zalexander/anaconda/envs/tensorflow/lib/python2.7/site-packages/tensorflow/python/ops/variable_scope.py\", line 394, in _true_getter\n    use_resource=use_resource, constraint=constraint)\n  File \"/Users/zalexander/anaconda/envs/tensorflow/lib/python2.7/site-packages/tensorflow/python/ops/variable_scope.py\", line 805, in _get_single_variable\n    constraint=constraint)\n  File \"/Users/zalexander/anaconda/envs/tensorflow/lib/python2.7/site-packages/tensorflow/python/ops/variables.py\", line 213, in __init__\n    constraint=constraint)\n  File \"/Users/zalexander/anaconda/envs/tensorflow/lib/python2.7/site-packages/tensorflow/python/ops/variables.py\", line 353, in _init_from_args\n    self._snapshot = array_ops.identity(self._variable, name=\"read\")\n  File \"/Users/zalexander/anaconda/envs/tensorflow/lib/python2.7/site-packages/tensorflow/python/ops/array_ops.py\", line 125, in identity\n    return gen_array_ops.identity(input, name=name)\n  File \"/Users/zalexander/anaconda/envs/tensorflow/lib/python2.7/site-packages/tensorflow/python/ops/gen_array_ops.py\", line 2071, in identity\n    \"Identity\", input=input, name=name)\n  File \"/Users/zalexander/anaconda/envs/tensorflow/lib/python2.7/site-packages/tensorflow/python/framework/op_def_library.py\", line 787, in _apply_op_helper\n    op_def=op_def)\n  File \"/Users/zalexander/anaconda/envs/tensorflow/lib/python2.7/site-packages/tensorflow/python/framework/ops.py\", line 2956, in create_op\n    op_def=op_def)\n  File \"/Users/zalexander/anaconda/envs/tensorflow/lib/python2.7/site-packages/tensorflow/python/framework/ops.py\", line 1470, in __init__\n    self._traceback = self._graph._extract_stack()  # pylint: disable=protected-access\n\nFailedPreconditionError (see above for traceback): Attempting to use uninitialized value decode/decoder/output_projection_wrapper/lstm_cell/kernel\n\t [[Node: decode/decoder/output_projection_wrapper/lstm_cell/kernel/read = Identity[T=DT_FLOAT, _device=\"/job:localhost/replica:0/task:0/device:CPU:0\"](decode/decoder/output_projection_wrapper/lstm_cell/kernel)]]\n",
     "output_type": "error",
     "traceback": [
      "\u001b[0;31m---------------------------------------------------------------------------\u001b[0m",
      "\u001b[0;31mFailedPreconditionError\u001b[0m                   Traceback (most recent call last)",
      "\u001b[0;32m<ipython-input-12-44f276a814b4>\u001b[0m in \u001b[0;36m<module>\u001b[0;34m()\u001b[0m\n\u001b[1;32m      1\u001b[0m \u001b[0;32mwith\u001b[0m \u001b[0mtf\u001b[0m\u001b[0;34m.\u001b[0m\u001b[0mSession\u001b[0m\u001b[0;34m(\u001b[0m\u001b[0;34m)\u001b[0m \u001b[0;32mas\u001b[0m \u001b[0msess\u001b[0m\u001b[0;34m:\u001b[0m\u001b[0;34m\u001b[0m\u001b[0m\n\u001b[0;32m----> 2\u001b[0;31m     \u001b[0mdecoder_output\u001b[0m \u001b[0;34m=\u001b[0m \u001b[0msess\u001b[0m\u001b[0;34m.\u001b[0m\u001b[0mrun\u001b[0m\u001b[0;34m(\u001b[0m\u001b[0mtrain_output_source\u001b[0m\u001b[0;34m,\u001b[0m \u001b[0md\u001b[0m\u001b[0;34m)\u001b[0m\u001b[0;34m\u001b[0m\u001b[0m\n\u001b[0m",
      "\u001b[0;32m/Users/zalexander/anaconda/envs/tensorflow/lib/python2.7/site-packages/tensorflow/python/client/session.pyc\u001b[0m in \u001b[0;36mrun\u001b[0;34m(self, fetches, feed_dict, options, run_metadata)\u001b[0m\n\u001b[1;32m    887\u001b[0m     \u001b[0;32mtry\u001b[0m\u001b[0;34m:\u001b[0m\u001b[0;34m\u001b[0m\u001b[0m\n\u001b[1;32m    888\u001b[0m       result = self._run(None, fetches, feed_dict, options_ptr,\n\u001b[0;32m--> 889\u001b[0;31m                          run_metadata_ptr)\n\u001b[0m\u001b[1;32m    890\u001b[0m       \u001b[0;32mif\u001b[0m \u001b[0mrun_metadata\u001b[0m\u001b[0;34m:\u001b[0m\u001b[0;34m\u001b[0m\u001b[0m\n\u001b[1;32m    891\u001b[0m         \u001b[0mproto_data\u001b[0m \u001b[0;34m=\u001b[0m \u001b[0mtf_session\u001b[0m\u001b[0;34m.\u001b[0m\u001b[0mTF_GetBuffer\u001b[0m\u001b[0;34m(\u001b[0m\u001b[0mrun_metadata_ptr\u001b[0m\u001b[0;34m)\u001b[0m\u001b[0;34m\u001b[0m\u001b[0m\n",
      "\u001b[0;32m/Users/zalexander/anaconda/envs/tensorflow/lib/python2.7/site-packages/tensorflow/python/client/session.pyc\u001b[0m in \u001b[0;36m_run\u001b[0;34m(self, handle, fetches, feed_dict, options, run_metadata)\u001b[0m\n\u001b[1;32m   1118\u001b[0m     \u001b[0;32mif\u001b[0m \u001b[0mfinal_fetches\u001b[0m \u001b[0;32mor\u001b[0m \u001b[0mfinal_targets\u001b[0m \u001b[0;32mor\u001b[0m \u001b[0;34m(\u001b[0m\u001b[0mhandle\u001b[0m \u001b[0;32mand\u001b[0m \u001b[0mfeed_dict_tensor\u001b[0m\u001b[0;34m)\u001b[0m\u001b[0;34m:\u001b[0m\u001b[0;34m\u001b[0m\u001b[0m\n\u001b[1;32m   1119\u001b[0m       results = self._do_run(handle, final_targets, final_fetches,\n\u001b[0;32m-> 1120\u001b[0;31m                              feed_dict_tensor, options, run_metadata)\n\u001b[0m\u001b[1;32m   1121\u001b[0m     \u001b[0;32melse\u001b[0m\u001b[0;34m:\u001b[0m\u001b[0;34m\u001b[0m\u001b[0m\n\u001b[1;32m   1122\u001b[0m       \u001b[0mresults\u001b[0m \u001b[0;34m=\u001b[0m \u001b[0;34m[\u001b[0m\u001b[0;34m]\u001b[0m\u001b[0;34m\u001b[0m\u001b[0m\n",
      "\u001b[0;32m/Users/zalexander/anaconda/envs/tensorflow/lib/python2.7/site-packages/tensorflow/python/client/session.pyc\u001b[0m in \u001b[0;36m_do_run\u001b[0;34m(self, handle, target_list, fetch_list, feed_dict, options, run_metadata)\u001b[0m\n\u001b[1;32m   1315\u001b[0m     \u001b[0;32mif\u001b[0m \u001b[0mhandle\u001b[0m \u001b[0;32mis\u001b[0m \u001b[0mNone\u001b[0m\u001b[0;34m:\u001b[0m\u001b[0;34m\u001b[0m\u001b[0m\n\u001b[1;32m   1316\u001b[0m       return self._do_call(_run_fn, self._session, feeds, fetches, targets,\n\u001b[0;32m-> 1317\u001b[0;31m                            options, run_metadata)\n\u001b[0m\u001b[1;32m   1318\u001b[0m     \u001b[0;32melse\u001b[0m\u001b[0;34m:\u001b[0m\u001b[0;34m\u001b[0m\u001b[0m\n\u001b[1;32m   1319\u001b[0m       \u001b[0;32mreturn\u001b[0m \u001b[0mself\u001b[0m\u001b[0;34m.\u001b[0m\u001b[0m_do_call\u001b[0m\u001b[0;34m(\u001b[0m\u001b[0m_prun_fn\u001b[0m\u001b[0;34m,\u001b[0m \u001b[0mself\u001b[0m\u001b[0;34m.\u001b[0m\u001b[0m_session\u001b[0m\u001b[0;34m,\u001b[0m \u001b[0mhandle\u001b[0m\u001b[0;34m,\u001b[0m \u001b[0mfeeds\u001b[0m\u001b[0;34m,\u001b[0m \u001b[0mfetches\u001b[0m\u001b[0;34m)\u001b[0m\u001b[0;34m\u001b[0m\u001b[0m\n",
      "\u001b[0;32m/Users/zalexander/anaconda/envs/tensorflow/lib/python2.7/site-packages/tensorflow/python/client/session.pyc\u001b[0m in \u001b[0;36m_do_call\u001b[0;34m(self, fn, *args)\u001b[0m\n\u001b[1;32m   1334\u001b[0m         \u001b[0;32mexcept\u001b[0m \u001b[0mKeyError\u001b[0m\u001b[0;34m:\u001b[0m\u001b[0;34m\u001b[0m\u001b[0m\n\u001b[1;32m   1335\u001b[0m           \u001b[0;32mpass\u001b[0m\u001b[0;34m\u001b[0m\u001b[0m\n\u001b[0;32m-> 1336\u001b[0;31m       \u001b[0;32mraise\u001b[0m \u001b[0mtype\u001b[0m\u001b[0;34m(\u001b[0m\u001b[0me\u001b[0m\u001b[0;34m)\u001b[0m\u001b[0;34m(\u001b[0m\u001b[0mnode_def\u001b[0m\u001b[0;34m,\u001b[0m \u001b[0mop\u001b[0m\u001b[0;34m,\u001b[0m \u001b[0mmessage\u001b[0m\u001b[0;34m)\u001b[0m\u001b[0;34m\u001b[0m\u001b[0m\n\u001b[0m\u001b[1;32m   1337\u001b[0m \u001b[0;34m\u001b[0m\u001b[0m\n\u001b[1;32m   1338\u001b[0m   \u001b[0;32mdef\u001b[0m \u001b[0m_extend_graph\u001b[0m\u001b[0;34m(\u001b[0m\u001b[0mself\u001b[0m\u001b[0;34m)\u001b[0m\u001b[0;34m:\u001b[0m\u001b[0;34m\u001b[0m\u001b[0m\n",
      "\u001b[0;31mFailedPreconditionError\u001b[0m: Attempting to use uninitialized value decode/decoder/output_projection_wrapper/lstm_cell/kernel\n\t [[Node: decode/decoder/output_projection_wrapper/lstm_cell/kernel/read = Identity[T=DT_FLOAT, _device=\"/job:localhost/replica:0/task:0/device:CPU:0\"](decode/decoder/output_projection_wrapper/lstm_cell/kernel)]]\n\nCaused by op u'decode/decoder/output_projection_wrapper/lstm_cell/kernel/read', defined at:\n  File \"/Users/zalexander/anaconda/envs/tensorflow/lib/python2.7/runpy.py\", line 174, in _run_module_as_main\n    \"__main__\", fname, loader, pkg_name)\n  File \"/Users/zalexander/anaconda/envs/tensorflow/lib/python2.7/runpy.py\", line 72, in _run_code\n    exec code in run_globals\n  File \"/Users/zalexander/anaconda/envs/tensorflow/lib/python2.7/site-packages/ipykernel_launcher.py\", line 16, in <module>\n    app.launch_new_instance()\n  File \"/Users/zalexander/anaconda/envs/tensorflow/lib/python2.7/site-packages/traitlets/config/application.py\", line 658, in launch_instance\n    app.start()\n  File \"/Users/zalexander/anaconda/envs/tensorflow/lib/python2.7/site-packages/ipykernel/kernelapp.py\", line 478, in start\n    self.io_loop.start()\n  File \"/Users/zalexander/anaconda/envs/tensorflow/lib/python2.7/site-packages/zmq/eventloop/ioloop.py\", line 177, in start\n    super(ZMQIOLoop, self).start()\n  File \"/Users/zalexander/anaconda/envs/tensorflow/lib/python2.7/site-packages/tornado/ioloop.py\", line 888, in start\n    handler_func(fd_obj, events)\n  File \"/Users/zalexander/anaconda/envs/tensorflow/lib/python2.7/site-packages/tornado/stack_context.py\", line 277, in null_wrapper\n    return fn(*args, **kwargs)\n  File \"/Users/zalexander/anaconda/envs/tensorflow/lib/python2.7/site-packages/zmq/eventloop/zmqstream.py\", line 440, in _handle_events\n    self._handle_recv()\n  File \"/Users/zalexander/anaconda/envs/tensorflow/lib/python2.7/site-packages/zmq/eventloop/zmqstream.py\", line 472, in _handle_recv\n    self._run_callback(callback, msg)\n  File \"/Users/zalexander/anaconda/envs/tensorflow/lib/python2.7/site-packages/zmq/eventloop/zmqstream.py\", line 414, in _run_callback\n    callback(*args, **kwargs)\n  File \"/Users/zalexander/anaconda/envs/tensorflow/lib/python2.7/site-packages/tornado/stack_context.py\", line 277, in null_wrapper\n    return fn(*args, **kwargs)\n  File \"/Users/zalexander/anaconda/envs/tensorflow/lib/python2.7/site-packages/ipykernel/kernelbase.py\", line 281, in dispatcher\n    return self.dispatch_shell(stream, msg)\n  File \"/Users/zalexander/anaconda/envs/tensorflow/lib/python2.7/site-packages/ipykernel/kernelbase.py\", line 232, in dispatch_shell\n    handler(stream, idents, msg)\n  File \"/Users/zalexander/anaconda/envs/tensorflow/lib/python2.7/site-packages/ipykernel/kernelbase.py\", line 397, in execute_request\n    user_expressions, allow_stdin)\n  File \"/Users/zalexander/anaconda/envs/tensorflow/lib/python2.7/site-packages/ipykernel/ipkernel.py\", line 208, in do_execute\n    res = shell.run_cell(code, store_history=store_history, silent=silent)\n  File \"/Users/zalexander/anaconda/envs/tensorflow/lib/python2.7/site-packages/ipykernel/zmqshell.py\", line 533, in run_cell\n    return super(ZMQInteractiveShell, self).run_cell(*args, **kwargs)\n  File \"/Users/zalexander/anaconda/envs/tensorflow/lib/python2.7/site-packages/IPython/core/interactiveshell.py\", line 2717, in run_cell\n    interactivity=interactivity, compiler=compiler, result=result)\n  File \"/Users/zalexander/anaconda/envs/tensorflow/lib/python2.7/site-packages/IPython/core/interactiveshell.py\", line 2821, in run_ast_nodes\n    if self.run_code(code, result):\n  File \"/Users/zalexander/anaconda/envs/tensorflow/lib/python2.7/site-packages/IPython/core/interactiveshell.py\", line 2881, in run_code\n    exec(code_obj, self.user_global_ns, self.user_ns)\n  File \"<ipython-input-5-54e3eed4799b>\", line 1, in <module>\n    train_output_source, source_in, source_out, target_in, target_out, label = model.make_graph(tf.estimator.ModeKeys.TRAIN, features, None, FLAGS)\n  File \"seq2seq.py\", line 180, in make_graph\n    train_output_source = self.decode(source_encoder_out, 'decode', source_out)\n  File \"seq2seq.py\", line 120, in decode\n    impute_finished=True, maximum_iterations=self.FLAGS.output_max_length + 1)\n  File \"/Users/zalexander/anaconda/envs/tensorflow/lib/python2.7/site-packages/tensorflow/contrib/seq2seq/python/ops/decoder.py\", line 286, in dynamic_decode\n    swap_memory=swap_memory)\n  File \"/Users/zalexander/anaconda/envs/tensorflow/lib/python2.7/site-packages/tensorflow/python/ops/control_flow_ops.py\", line 2816, in while_loop\n    result = loop_context.BuildLoop(cond, body, loop_vars, shape_invariants)\n  File \"/Users/zalexander/anaconda/envs/tensorflow/lib/python2.7/site-packages/tensorflow/python/ops/control_flow_ops.py\", line 2640, in BuildLoop\n    pred, body, original_loop_vars, loop_vars, shape_invariants)\n  File \"/Users/zalexander/anaconda/envs/tensorflow/lib/python2.7/site-packages/tensorflow/python/ops/control_flow_ops.py\", line 2590, in _BuildLoop\n    body_result = body(*packed_vars_for_body)\n  File \"/Users/zalexander/anaconda/envs/tensorflow/lib/python2.7/site-packages/tensorflow/contrib/seq2seq/python/ops/decoder.py\", line 234, in body\n    decoder_finished) = decoder.step(time, inputs, state)\n  File \"/Users/zalexander/anaconda/envs/tensorflow/lib/python2.7/site-packages/tensorflow/contrib/seq2seq/python/ops/basic_decoder.py\", line 138, in step\n    cell_outputs, cell_state = self._cell(inputs, state)\n  File \"/Users/zalexander/anaconda/envs/tensorflow/lib/python2.7/site-packages/tensorflow/python/ops/rnn_cell_impl.py\", line 183, in __call__\n    return super(RNNCell, self).__call__(inputs, state)\n  File \"/Users/zalexander/anaconda/envs/tensorflow/lib/python2.7/site-packages/tensorflow/python/layers/base.py\", line 575, in __call__\n    outputs = self.call(inputs, *args, **kwargs)\n  File \"/Users/zalexander/anaconda/envs/tensorflow/lib/python2.7/site-packages/tensorflow/contrib/rnn/python/ops/core_rnn_cell.py\", line 230, in call\n    output, res_state = self._cell(inputs, state)\n  File \"/Users/zalexander/anaconda/envs/tensorflow/lib/python2.7/site-packages/tensorflow/python/ops/rnn_cell_impl.py\", line 183, in __call__\n    return super(RNNCell, self).__call__(inputs, state)\n  File \"/Users/zalexander/anaconda/envs/tensorflow/lib/python2.7/site-packages/tensorflow/python/layers/base.py\", line 575, in __call__\n    outputs = self.call(inputs, *args, **kwargs)\n  File \"/Users/zalexander/anaconda/envs/tensorflow/lib/python2.7/site-packages/tensorflow/python/ops/rnn_cell_impl.py\", line 608, in call\n    self._linear1 = _Linear([inputs, m_prev], 4 * self._num_units, True)\n  File \"/Users/zalexander/anaconda/envs/tensorflow/lib/python2.7/site-packages/tensorflow/python/ops/rnn_cell_impl.py\", line 1171, in __init__\n    initializer=kernel_initializer)\n  File \"/Users/zalexander/anaconda/envs/tensorflow/lib/python2.7/site-packages/tensorflow/python/ops/variable_scope.py\", line 1203, in get_variable\n    constraint=constraint)\n  File \"/Users/zalexander/anaconda/envs/tensorflow/lib/python2.7/site-packages/tensorflow/python/ops/variable_scope.py\", line 1092, in get_variable\n    constraint=constraint)\n  File \"/Users/zalexander/anaconda/envs/tensorflow/lib/python2.7/site-packages/tensorflow/python/ops/variable_scope.py\", line 417, in get_variable\n    return custom_getter(**custom_getter_kwargs)\n  File \"/Users/zalexander/anaconda/envs/tensorflow/lib/python2.7/site-packages/tensorflow/python/ops/variable_scope.py\", line 1583, in wrapped_custom_getter\n    *args, **kwargs)\n  File \"/Users/zalexander/anaconda/envs/tensorflow/lib/python2.7/site-packages/tensorflow/python/ops/rnn_cell_impl.py\", line 186, in _rnn_get_variable\n    variable = getter(*args, **kwargs)\n  File \"/Users/zalexander/anaconda/envs/tensorflow/lib/python2.7/site-packages/tensorflow/python/ops/rnn_cell_impl.py\", line 186, in _rnn_get_variable\n    variable = getter(*args, **kwargs)\n  File \"/Users/zalexander/anaconda/envs/tensorflow/lib/python2.7/site-packages/tensorflow/python/ops/variable_scope.py\", line 394, in _true_getter\n    use_resource=use_resource, constraint=constraint)\n  File \"/Users/zalexander/anaconda/envs/tensorflow/lib/python2.7/site-packages/tensorflow/python/ops/variable_scope.py\", line 805, in _get_single_variable\n    constraint=constraint)\n  File \"/Users/zalexander/anaconda/envs/tensorflow/lib/python2.7/site-packages/tensorflow/python/ops/variables.py\", line 213, in __init__\n    constraint=constraint)\n  File \"/Users/zalexander/anaconda/envs/tensorflow/lib/python2.7/site-packages/tensorflow/python/ops/variables.py\", line 353, in _init_from_args\n    self._snapshot = array_ops.identity(self._variable, name=\"read\")\n  File \"/Users/zalexander/anaconda/envs/tensorflow/lib/python2.7/site-packages/tensorflow/python/ops/array_ops.py\", line 125, in identity\n    return gen_array_ops.identity(input, name=name)\n  File \"/Users/zalexander/anaconda/envs/tensorflow/lib/python2.7/site-packages/tensorflow/python/ops/gen_array_ops.py\", line 2071, in identity\n    \"Identity\", input=input, name=name)\n  File \"/Users/zalexander/anaconda/envs/tensorflow/lib/python2.7/site-packages/tensorflow/python/framework/op_def_library.py\", line 787, in _apply_op_helper\n    op_def=op_def)\n  File \"/Users/zalexander/anaconda/envs/tensorflow/lib/python2.7/site-packages/tensorflow/python/framework/ops.py\", line 2956, in create_op\n    op_def=op_def)\n  File \"/Users/zalexander/anaconda/envs/tensorflow/lib/python2.7/site-packages/tensorflow/python/framework/ops.py\", line 1470, in __init__\n    self._traceback = self._graph._extract_stack()  # pylint: disable=protected-access\n\nFailedPreconditionError (see above for traceback): Attempting to use uninitialized value decode/decoder/output_projection_wrapper/lstm_cell/kernel\n\t [[Node: decode/decoder/output_projection_wrapper/lstm_cell/kernel/read = Identity[T=DT_FLOAT, _device=\"/job:localhost/replica:0/task:0/device:CPU:0\"](decode/decoder/output_projection_wrapper/lstm_cell/kernel)]]\n"
     ]
    }
   ],
   "source": [
    "with tf.Session() as sess:\n",
    "    "
   ]
  },
  {
   "cell_type": "code",
   "execution_count": null,
   "metadata": {},
   "outputs": [],
   "source": []
  }
 ],
 "metadata": {
  "kernelspec": {
   "display_name": "Python 2",
   "language": "python",
   "name": "python2"
  },
  "language_info": {
   "codemirror_mode": {
    "name": "ipython",
    "version": 2
   },
   "file_extension": ".py",
   "mimetype": "text/x-python",
   "name": "python",
   "nbconvert_exporter": "python",
   "pygments_lexer": "ipython2",
   "version": "2.7.13"
  }
 },
 "nbformat": 4,
 "nbformat_minor": 2
}
